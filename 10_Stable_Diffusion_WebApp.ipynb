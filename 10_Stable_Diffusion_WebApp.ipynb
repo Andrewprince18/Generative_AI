{
  "cells": [
    {
      "cell_type": "markdown",
      "metadata": {
        "id": "gLEQCNfkBxm6"
      },
      "source": [
        "# 📚 建立 Stable Diffusion 的圖片生成 Web App\n",
        "\n",
        "### 1. 安裝必要套件"
      ]
    },
    {
      "cell_type": "code",
      "execution_count": null,
      "metadata": {
        "id": "50QsZ9LcBw5Y"
      },
      "outputs": [],
      "source": [
        "!pip install diffusers transformers accelerate safetensors huggingface_hub gradio --upgrade"
      ]
    },
    {
      "cell_type": "markdown",
      "source": [
        "### 輸入 HuggingFace token 金鑰"
      ],
      "metadata": {
        "id": "nXrhgO2GeOIq"
      }
    },
    {
      "cell_type": "code",
      "execution_count": null,
      "metadata": {
        "id": "e3YMEdSZB98I"
      },
      "outputs": [],
      "source": [
        "from huggingface_hub import login\n",
        "\n",
        "from google.colab import userdata\n",
        "\n",
        "hf_token = userdata.get(\"HuggingFace\")\n",
        "login(token=hf_token)"
      ]
    },
    {
      "cell_type": "code",
      "execution_count": null,
      "metadata": {
        "id": "AxCcNOPBCmf2"
      },
      "outputs": [],
      "source": [
        "from diffusers import StableDiffusionPipeline, UniPCMultistepScheduler\n",
        "import torch\n",
        "import gc\n",
        "import matplotlib.pyplot as plt\n",
        "import gradio as gr\n",
        "import random"
      ]
    },
    {
      "cell_type": "markdown",
      "metadata": {
        "id": "8NhvpxxqCqps"
      },
      "source": [
        "### 2. 指定並讀入模型\n",
        "### 🧠 模型介紹：gsdf/Counterfeit-V2.5\n",
        "\n",
        "`Counterfeit-V2.5` 是一款基於 Stable Diffusion 1.5 的強化插畫風格模型，特別適合生成 **動漫風格、半寫實風格** 以及 **唯美角色圖像**。此模型由社群創作者精心微調，融合了高質感人物特徵、細膩背景紋理與柔和打光技術，廣泛應用於角色設計、同人創作與幻想場景生成。\n",
        "\n",
        "- ✅ 支援 **diffusers** 格式，適用於 Hugging Face 生態系。\n",
        "- 🎨 擅長生成：精緻五官、光影豐富的臉部、複雜髮絲、動漫人物、幻想背景。\n",
        "- 💡 推薦搭配：high-resolution、perfect face、sharp lines 等增強詞使用。\n",
        "- 📌 模型來源：[gsdf/Counterfeit-V2.5 on Hugging Face](https://huggingface.co/gsdf/Counterfeit-V2.5)\n",
        "\n"
      ]
    },
    {
      "cell_type": "code",
      "execution_count": null,
      "metadata": {
        "id": "yy2-xjIyCpbI"
      },
      "outputs": [],
      "source": [
        "model_name = \"gsdf/Counterfeit-V2.5\""
      ]
    },
    {
      "cell_type": "markdown",
      "source": [
        "注意有可能要停用 `use_safetensors=True`。"
      ],
      "metadata": {
        "id": "cfsSUkxlUpsi"
      }
    },
    {
      "cell_type": "code",
      "execution_count": null,
      "metadata": {
        "id": "c4fEdszfCyO7"
      },
      "outputs": [],
      "source": [
        "pipe = StableDiffusionPipeline.from_pretrained(\n",
        "    model_name,\n",
        "    torch_dtype=torch.float16,\n",
        "    use_safetensors=True\n",
        ").to(\"cuda\")"
      ]
    },
    {
      "cell_type": "code",
      "execution_count": null,
      "metadata": {
        "id": "rzzFo2qCC56V"
      },
      "outputs": [],
      "source": [
        "pipe.scheduler = UniPCMultistepScheduler.from_config(pipe.scheduler.config)"
      ]
    },
    {
      "cell_type": "markdown",
      "metadata": {
        "id": "X4ZAPdMsC_Dq"
      },
      "source": [
        "### 🛠️ 3. 生成的 `generate_images` 函式\n",
        "\n",
        "本系統使用自定義的 `generate_images()` 函式進行圖像生成，支援多張圖片、隨機種子、自動加強提示詞與負面詞等功能，搭配 `gsdf/Counterfeit-V2.5` 模型，可靈活控制生成風格與品質。\n",
        "\n",
        "### 📌 函式功能包含：\n",
        "\n",
        "- ✅ 支援 **多張圖片生成**（指定張數，每張使用不同種子）\n",
        "- ✅ 可選擇使用 **自訂 Random Seed** 或自動隨機產生\n",
        "- ✅ 自動組合使用者輸入的 Prompt 與 Enhance Text\n",
        "- ✅ 可勾選是否使用 Negative Prompt，提升畫面品質\n",
        "- ✅ 自動釋放 GPU 記憶體，減少長時間生成造成的記憶體問題\n",
        "- ✅ 若高度或寬度不是 8 的倍數，會主動報錯提醒（符合 Stable Diffusion 限制）\n",
        "\n",
        "### 🧠 主要參數說明：\n",
        "\n",
        "| 參數名稱        | 說明 |\n",
        "|------------------|------|\n",
        "| `prompt`         | 使用者輸入的主提示詞，建議使用英文 |\n",
        "| `enhance_text`   | 高品質增強詞，例如：masterpiece、ultra-detailed 等 |\n",
        "| `negative_text`  | 排除元素的提示詞，避免錯誤結構或低畫質內容 |\n",
        "| `height/width`   | 輸出影像尺寸，需為 8 的倍數（如：512、768）|\n",
        "| `steps`          | 推理步數，越多越精緻但花費時間越長 |\n",
        "| `num_images`     | 一次生成幾張圖片 |\n",
        "| `seed`           | 可固定隨機種子，以利重現相同結果 |\n"
      ]
    },
    {
      "cell_type": "code",
      "execution_count": null,
      "metadata": {
        "id": "mpPjwVKbDEKe"
      },
      "outputs": [],
      "source": [
        "def generate_images(prompt, use_enhance, enhance_text, use_negative, negative_text,\n",
        "                    use_custom_seed, custom_seed, height, width, steps, num_images):\n",
        "\n",
        "    height = int(height)\n",
        "    width = int(width)\n",
        "\n",
        "    if height % 8 != 0 or width % 8 != 0:\n",
        "        raise ValueError(\"高度和寬度必須是8的倍數！\")\n",
        "\n",
        "    if use_custom_seed:\n",
        "        base_seed = int(custom_seed)\n",
        "    else:\n",
        "        base_seed = random.randint(0, 2**32 - 1)\n",
        "\n",
        "    seeds = [base_seed + i for i in range(num_images)]\n",
        "\n",
        "    prompts = []\n",
        "    negative_prompts = []\n",
        "    generators = []\n",
        "\n",
        "    final_prompt = prompt\n",
        "    if use_enhance and enhance_text:\n",
        "        final_prompt = prompt + \", \" + enhance_text\n",
        "\n",
        "    final_negative = negative_text if use_negative else None\n",
        "\n",
        "    for seed in seeds:\n",
        "        g = torch.Generator(\"cuda\").manual_seed(seed)\n",
        "        generators.append(g)\n",
        "        prompts.append(final_prompt)\n",
        "        negative_prompts.append(final_negative)\n",
        "\n",
        "    gc.collect()\n",
        "    torch.cuda.empty_cache()\n",
        "\n",
        "    images = []\n",
        "    for i in range(num_images):\n",
        "        with torch.no_grad():\n",
        "            image = pipe(\n",
        "                prompt=prompts[i],\n",
        "                negative_prompt=negative_prompts[i] if final_negative else None,\n",
        "                height=height,\n",
        "                width=width,\n",
        "                num_inference_steps=steps,\n",
        "                guidance_scale=7.5,\n",
        "                generator=generators[i]\n",
        "            ).images[0]\n",
        "            images.append(image)\n",
        "\n",
        "    return images, f\"使用的 random seeds: {seeds}\""
      ]
    },
    {
      "cell_type": "markdown",
      "metadata": {
        "id": "eKiTPYpWDVln"
      },
      "source": [
        "### 4. 打造 Gradio Web App\n",
        "\n",
        "這個生成器使用 `gsdf/Counterfeit-V2.5` 模型，可輸入提示詞，快速產出細膩的插畫風圖片。可以：\n",
        "\n",
        "- **輸入提示詞（Prompt）**：建議使用英文描述，例如 `1girl, silver hair, red eyes, fantasy forest`\n",
        "- **選擇是否自動加強**：內建的加強內容會補充關鍵詞，讓圖片品質更高（如高解析、精緻光影）\n",
        "- **啟用 Negative Prompt**：排除你不想要出現的內容，例如手部錯誤、低解析、浮水印等\n",
        "- **可選擇自訂隨機種子（Seed）**：若想重現相同圖像，可固定種子值\n",
        "- **調整圖片尺寸與生成張數**：高度與寬度需為 8 的倍數，否則會報錯提醒\n",
        "\n",
        "所有設定會送入 `generate_images()` 函式中，由 Stable Diffusion 模型進行處理，並依據你的指示完成圖像生成！\n"
      ]
    },
    {
      "cell_type": "code",
      "execution_count": null,
      "metadata": {
        "id": "2uJnUGTXDOCN"
      },
      "outputs": [],
      "source": [
        "default_enhance = \"masterpiece, best quality, illustration, ultra-detailed, high-resolution, sharp lines, perfect face, normal eye count, detailed eyes, beautiful skin, vibrant lighting, dynamic pose, anime style, highly detailed background\"\n",
        "default_negative = \"lowres, blurry, bad anatomy, bad hands, fused fingers, extra fingers, missing fingers, long neck, deformed face, duplicate limbs, text, watermark, signature, poorly drawn, ugly eyes, morphed body\"\n",
        "\n",
        "# Gradio UI\n",
        "with gr.Blocks(css=\"\"\"\n",
        ".gradio-container {\n",
        "    background-color: #1E1E2F;\n",
        "    color: #FFFFFF;\n",
        "    padding: 20px;\n",
        "}\n",
        ".gr-button {\n",
        "    font-size: 18px;\n",
        "    background: linear-gradient(to right, #8A2BE2, #4B0082);\n",
        "    color: white;\n",
        "}\n",
        ".gr-textbox textarea, .gr-number input, .gr-dropdown select {\n",
        "    background-color: #2C2C3C;\n",
        "    color: #FFFFFF;\n",
        "    border: 1px solid #555;\n",
        "}\n",
        ".gr-slider .wrap {\n",
        "    background-color: #2C2C3C;\n",
        "}\n",
        "\"\"\") as demo:\n",
        "\n",
        "    gr.Markdown(\"\"\"\n",
        "    # 🎨 Counterfeit V2.5 插畫生成器\n",
        "    ✨ 請直接輸入提示詞（建議使用英文），可搭配自訂強化與負面詞，快速生成高品質插畫風圖像！\n",
        "    💡 模型：gsdf/Counterfeit-V2.5（支援 diffusers，擅長動漫 × 插畫 × 半寫實風格）\n",
        "    \"\"\")\n",
        "\n",
        "    with gr.Row():\n",
        "        with gr.Column(scale=6):\n",
        "            prompt = gr.Textbox(label=\"📝 提示詞 Prompt\", placeholder=\"例如：1girl, silver hair, red eyes, fantasy forest\", lines=3)\n",
        "            with gr.Row():\n",
        "                use_enhance = gr.Checkbox(label=\"✅ 自動加強 Prompt\", value=True)\n",
        "                enhance_text = gr.Textbox(label=\"加強內容（可自訂）\", value=default_enhance)\n",
        "            with gr.Row():\n",
        "                use_negative = gr.Checkbox(label=\"🚫 使用 Negative Prompt\", value=True)\n",
        "                negative_text = gr.Textbox(label=\"Negative Prompt 內容（可自訂）\", value=default_negative)\n",
        "            with gr.Row():\n",
        "                use_custom_seed = gr.Checkbox(label=\"🎲 自訂 Random Seed\", value=False)\n",
        "                custom_seed = gr.Number(label=\"指定 seed（選填）\", value=42)\n",
        "            with gr.Row():\n",
        "                height = gr.Dropdown([\"512\", \"768\", \"1024\"], label=\"🖼️ 高度 Height\", value=\"512\")\n",
        "                width = gr.Dropdown([\"512\", \"768\", \"1024\"], label=\"📐 寬度 Width\", value=\"512\")\n",
        "            with gr.Row():\n",
        "                steps = gr.Slider(10, 50, value=20, step=5, label=\"🧠 生成步數 (Steps)\")\n",
        "                num_images = gr.Slider(1, 4, step=1, value=1, label=\"🖼️ 生成張數\")\n",
        "            generate_btn = gr.Button(\"🚀 生成插畫\")\n",
        "\n",
        "        with gr.Column(scale=6):\n",
        "            gallery = gr.Gallery(label=\"🌈 生成結果\", columns=2, object_fit=\"contain\", height=\"auto\")\n",
        "            seed_info = gr.Label(label=\"📦 使用的 Seed\")\n",
        "\n",
        "    generate_btn.click(\n",
        "        fn=generate_images,\n",
        "        inputs=[prompt, use_enhance, enhance_text, use_negative, negative_text,\n",
        "                use_custom_seed, custom_seed, height, width, steps, num_images],\n",
        "        outputs=[gallery, seed_info]\n",
        "    )\n",
        "\n"
      ]
    },
    {
      "cell_type": "code",
      "execution_count": null,
      "metadata": {
        "id": "IYR6wPYHDmkn"
      },
      "outputs": [],
      "source": [
        "demo.launch(share=True, debug=True)"
      ]
    }
  ],
  "metadata": {
    "accelerator": "GPU",
    "colab": {
      "gpuType": "T4",
      "private_outputs": true,
      "provenance": []
    },
    "kernelspec": {
      "display_name": "Python 3",
      "name": "python3"
    },
    "language_info": {
      "name": "python"
    }
  },
  "nbformat": 4,
  "nbformat_minor": 0
}