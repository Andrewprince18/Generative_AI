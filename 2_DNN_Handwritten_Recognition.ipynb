{
 "cells": [
  {
   "cell_type": "markdown",
   "metadata": {
    "id": "ajB6O3rXnRO7"
   },
   "source": [
    "# DNN 深度神經網路 手寫辨識"
   ]
  },
  {
   "cell_type": "markdown",
   "metadata": {
    "id": "uL__8ircnEDI"
   },
   "source": [
    "## 設定層數與神經元數量"
   ]
  },
  {
   "cell_type": "markdown",
   "metadata": {
    "id": "peN7YRgV0Ave"
   },
   "source": [
    "在此設定將 4 層的深度學習, 其中設定每一層的神經元個數\n",
    "- 第一層 N1 = 256\n",
    "- 第二層 N2 = 128\n",
    "- 第三層 N3 = 64\n",
    "- 第四層 N4 = 32\n",
    "\n",
    "這樣設定的目的是為了逐步壓縮資料特徵，減少過度擬合的風險。"
   ]
  },
  {
   "cell_type": "code",
   "execution_count": 13,
   "metadata": {
    "executionInfo": {
     "elapsed": 4,
     "status": "ok",
     "timestamp": 1740808869583,
     "user": {
      "displayName": "許政揚",
      "userId": "12670967987344070374"
     },
     "user_tz": -480
    },
    "id": "4Nh6oQpK2Y5W"
   },
   "outputs": [],
   "source": [
    "N1 = 256\n",
    "N2 = 128\n",
    "N3 = 64\n",
    "N4 = 32"
   ]
  },
  {
   "cell_type": "markdown",
   "metadata": {
    "id": "RkYdA5re0Ave"
   },
   "source": [
    "## 1. 讀入 \"Gradio\" 套件\n",
    "\n",
    "此 Python 套件的目的是快速測試和展示深度學習、機器學習模型，並建立互動式的介面。"
   ]
  },
  {
   "cell_type": "code",
   "execution_count": null,
   "metadata": {
    "colab": {
     "base_uri": "https://localhost:8080/"
    },
    "executionInfo": {
     "elapsed": 17682,
     "status": "ok",
     "timestamp": 1740808888687,
     "user": {
      "displayName": "許政揚",
      "userId": "12670967987344070374"
     },
     "user_tz": -480
    },
    "id": "fdIz5z2klW4S",
    "outputId": "7f94ff88-9deb-481a-d14a-2e97ee18eae4"
   },
   "outputs": [
    {
     "name": "stdout",
     "output_type": "stream",
     "text": [
      "Collecting gradio\n",
      "  Using cached gradio-5.25.0-py3-none-any.whl.metadata (16 kB)\n",
      "Collecting aiofiles<25.0,>=22.0 (from gradio)\n",
      "  Using cached aiofiles-24.1.0-py3-none-any.whl.metadata (10 kB)\n",
      "Requirement already satisfied: anyio<5.0,>=3.0 in /Users/andrewhsu/Library/Python/3.11/lib/python/site-packages (from gradio) (4.3.0)\n",
      "Collecting fastapi<1.0,>=0.115.2 (from gradio)\n",
      "  Using cached fastapi-0.115.12-py3-none-any.whl.metadata (27 kB)\n",
      "Collecting ffmpy (from gradio)\n",
      "  Using cached ffmpy-0.5.0-py3-none-any.whl.metadata (3.0 kB)\n",
      "Collecting gradio-client==1.8.0 (from gradio)\n",
      "  Using cached gradio_client-1.8.0-py3-none-any.whl.metadata (7.1 kB)\n",
      "Collecting groovy~=0.1 (from gradio)\n",
      "  Using cached groovy-0.1.2-py3-none-any.whl.metadata (6.1 kB)\n",
      "Requirement already satisfied: httpx>=0.24.1 in /Users/andrewhsu/Library/Python/3.11/lib/python/site-packages (from gradio) (0.27.0)\n",
      "Collecting huggingface-hub>=0.28.1 (from gradio)\n",
      "  Using cached huggingface_hub-0.30.2-py3-none-any.whl.metadata (13 kB)\n",
      "Requirement already satisfied: jinja2<4.0 in /Library/Frameworks/Python.framework/Versions/3.11/lib/python3.11/site-packages (from gradio) (3.1.3)\n",
      "Requirement already satisfied: markupsafe<4.0,>=2.0 in /Library/Frameworks/Python.framework/Versions/3.11/lib/python3.11/site-packages (from gradio) (2.1.5)\n",
      "Requirement already satisfied: numpy<3.0,>=1.0 in /Library/Frameworks/Python.framework/Versions/3.11/lib/python3.11/site-packages (from gradio) (1.26.0)\n",
      "Collecting orjson~=3.0 (from gradio)\n",
      "  Using cached orjson-3.10.16-cp311-cp311-macosx_10_15_x86_64.macosx_11_0_arm64.macosx_10_15_universal2.whl.metadata (41 kB)\n",
      "Requirement already satisfied: packaging in /Users/andrewhsu/Library/Python/3.11/lib/python/site-packages (from gradio) (24.2)\n",
      "Requirement already satisfied: pandas<3.0,>=1.0 in /Library/Frameworks/Python.framework/Versions/3.11/lib/python3.11/site-packages (from gradio) (2.1.1)\n",
      "Requirement already satisfied: pillow<12.0,>=8.0 in /Library/Frameworks/Python.framework/Versions/3.11/lib/python3.11/site-packages (from gradio) (10.0.1)\n",
      "Collecting pydantic<2.12,>=2.0 (from gradio)\n",
      "  Using cached pydantic-2.11.3-py3-none-any.whl.metadata (65 kB)\n",
      "Requirement already satisfied: pydub in /Library/Frameworks/Python.framework/Versions/3.11/lib/python3.11/site-packages (from gradio) (0.25.1)\n",
      "Collecting python-multipart>=0.0.18 (from gradio)\n",
      "  Using cached python_multipart-0.0.20-py3-none-any.whl.metadata (1.8 kB)\n",
      "Requirement already satisfied: pyyaml<7.0,>=5.0 in /Users/andrewhsu/Library/Python/3.11/lib/python/site-packages (from gradio) (6.0.1)\n",
      "Collecting ruff>=0.9.3 (from gradio)\n",
      "  Using cached ruff-0.11.5-py3-none-macosx_11_0_arm64.whl.metadata (25 kB)\n",
      "Collecting safehttpx<0.2.0,>=0.1.6 (from gradio)\n",
      "  Using cached safehttpx-0.1.6-py3-none-any.whl.metadata (4.2 kB)\n",
      "Collecting semantic-version~=2.0 (from gradio)\n",
      "  Using cached semantic_version-2.10.0-py2.py3-none-any.whl.metadata (9.7 kB)\n",
      "Collecting starlette<1.0,>=0.40.0 (from gradio)\n",
      "  Using cached starlette-0.46.1-py3-none-any.whl.metadata (6.2 kB)\n",
      "Collecting tomlkit<0.14.0,>=0.12.0 (from gradio)\n",
      "  Using cached tomlkit-0.13.2-py3-none-any.whl.metadata (2.7 kB)\n",
      "Collecting typer<1.0,>=0.12 (from gradio)\n",
      "  Using cached typer-0.15.2-py3-none-any.whl.metadata (15 kB)\n",
      "Requirement already satisfied: typing-extensions~=4.0 in /Users/andrewhsu/Library/Python/3.11/lib/python/site-packages (from gradio) (4.12.2)\n",
      "Collecting uvicorn>=0.14.0 (from gradio)\n",
      "  Using cached uvicorn-0.34.0-py3-none-any.whl.metadata (6.5 kB)\n",
      "Requirement already satisfied: fsspec in /Library/Frameworks/Python.framework/Versions/3.11/lib/python3.11/site-packages (from gradio-client==1.8.0->gradio) (2024.3.1)\n",
      "Collecting websockets<16.0,>=10.0 (from gradio-client==1.8.0->gradio)\n",
      "  Using cached websockets-15.0.1-cp311-cp311-macosx_11_0_arm64.whl.metadata (6.8 kB)\n",
      "Requirement already satisfied: idna>=2.8 in /Users/andrewhsu/Library/Python/3.11/lib/python/site-packages (from anyio<5.0,>=3.0->gradio) (3.7)\n",
      "Requirement already satisfied: sniffio>=1.1 in /Users/andrewhsu/Library/Python/3.11/lib/python/site-packages (from anyio<5.0,>=3.0->gradio) (1.3.1)\n",
      "Requirement already satisfied: certifi in /Users/andrewhsu/Library/Python/3.11/lib/python/site-packages (from httpx>=0.24.1->gradio) (2024.2.2)\n",
      "Requirement already satisfied: httpcore==1.* in /Users/andrewhsu/Library/Python/3.11/lib/python/site-packages (from httpx>=0.24.1->gradio) (1.0.5)\n",
      "Requirement already satisfied: h11<0.15,>=0.13 in /Users/andrewhsu/Library/Python/3.11/lib/python/site-packages (from httpcore==1.*->httpx>=0.24.1->gradio) (0.14.0)\n",
      "Requirement already satisfied: filelock in /Library/Frameworks/Python.framework/Versions/3.11/lib/python3.11/site-packages (from huggingface-hub>=0.28.1->gradio) (3.12.4)\n",
      "Requirement already satisfied: requests in /Users/andrewhsu/Library/Python/3.11/lib/python/site-packages (from huggingface-hub>=0.28.1->gradio) (2.31.0)\n",
      "Requirement already satisfied: tqdm>=4.42.1 in /Library/Frameworks/Python.framework/Versions/3.11/lib/python3.11/site-packages (from huggingface-hub>=0.28.1->gradio) (4.66.4)\n",
      "Requirement already satisfied: python-dateutil>=2.8.2 in /Users/andrewhsu/Library/Python/3.11/lib/python/site-packages (from pandas<3.0,>=1.0->gradio) (2.9.0.post0)\n",
      "Requirement already satisfied: pytz>=2020.1 in /Library/Frameworks/Python.framework/Versions/3.11/lib/python3.11/site-packages (from pandas<3.0,>=1.0->gradio) (2023.3.post1)\n",
      "Requirement already satisfied: tzdata>=2022.1 in /Library/Frameworks/Python.framework/Versions/3.11/lib/python3.11/site-packages (from pandas<3.0,>=1.0->gradio) (2023.3)\n",
      "Collecting annotated-types>=0.6.0 (from pydantic<2.12,>=2.0->gradio)\n",
      "  Using cached annotated_types-0.7.0-py3-none-any.whl.metadata (15 kB)\n",
      "Collecting pydantic-core==2.33.1 (from pydantic<2.12,>=2.0->gradio)\n",
      "  Downloading pydantic_core-2.33.1-cp311-cp311-macosx_11_0_arm64.whl.metadata (6.8 kB)\n",
      "Collecting typing-inspection>=0.4.0 (from pydantic<2.12,>=2.0->gradio)\n",
      "  Downloading typing_inspection-0.4.0-py3-none-any.whl.metadata (2.6 kB)\n",
      "Requirement already satisfied: click>=8.0.0 in /Library/Frameworks/Python.framework/Versions/3.11/lib/python3.11/site-packages (from typer<1.0,>=0.12->gradio) (8.1.7)\n",
      "Collecting shellingham>=1.3.0 (from typer<1.0,>=0.12->gradio)\n",
      "  Downloading shellingham-1.5.4-py2.py3-none-any.whl.metadata (3.5 kB)\n",
      "Collecting rich>=10.11.0 (from typer<1.0,>=0.12->gradio)\n",
      "  Downloading rich-14.0.0-py3-none-any.whl.metadata (18 kB)\n",
      "Requirement already satisfied: six>=1.5 in /Users/andrewhsu/Library/Python/3.11/lib/python/site-packages (from python-dateutil>=2.8.2->pandas<3.0,>=1.0->gradio) (1.17.0)\n",
      "Collecting markdown-it-py>=2.2.0 (from rich>=10.11.0->typer<1.0,>=0.12->gradio)\n",
      "  Downloading markdown_it_py-3.0.0-py3-none-any.whl.metadata (6.9 kB)\n",
      "Requirement already satisfied: pygments<3.0.0,>=2.13.0 in /Users/andrewhsu/Library/Python/3.11/lib/python/site-packages (from rich>=10.11.0->typer<1.0,>=0.12->gradio) (2.19.1)\n",
      "Requirement already satisfied: charset-normalizer<4,>=2 in /Users/andrewhsu/Library/Python/3.11/lib/python/site-packages (from requests->huggingface-hub>=0.28.1->gradio) (3.3.2)\n",
      "Requirement already satisfied: urllib3<3,>=1.21.1 in /Users/andrewhsu/Library/Python/3.11/lib/python/site-packages (from requests->huggingface-hub>=0.28.1->gradio) (2.2.1)\n",
      "Collecting mdurl~=0.1 (from markdown-it-py>=2.2.0->rich>=10.11.0->typer<1.0,>=0.12->gradio)\n",
      "  Downloading mdurl-0.1.2-py3-none-any.whl.metadata (1.6 kB)\n",
      "Downloading gradio-5.25.0-py3-none-any.whl (46.9 MB)\n",
      "\u001b[2K   \u001b[90m━━━━━━━━━━━━━━━━━━━━━━━━━━━━━━━━━━━━━━━━\u001b[0m \u001b[32m46.9/46.9 MB\u001b[0m \u001b[31m14.8 MB/s\u001b[0m eta \u001b[36m0:00:00\u001b[0m00:01\u001b[0m00:01\u001b[0m\n",
      "\u001b[?25hDownloading gradio_client-1.8.0-py3-none-any.whl (322 kB)\n",
      "Downloading aiofiles-24.1.0-py3-none-any.whl (15 kB)\n",
      "Downloading fastapi-0.115.12-py3-none-any.whl (95 kB)\n",
      "Downloading groovy-0.1.2-py3-none-any.whl (14 kB)\n",
      "Downloading huggingface_hub-0.30.2-py3-none-any.whl (481 kB)\n",
      "Downloading orjson-3.10.16-cp311-cp311-macosx_10_15_x86_64.macosx_11_0_arm64.macosx_10_15_universal2.whl (249 kB)\n",
      "Downloading pydantic-2.11.3-py3-none-any.whl (443 kB)\n",
      "Downloading pydantic_core-2.33.1-cp311-cp311-macosx_11_0_arm64.whl (1.9 MB)\n",
      "\u001b[2K   \u001b[90m━━━━━━━━━━━━━━━━━━━━━━━━━━━━━━━━━━━━━━━━\u001b[0m \u001b[32m1.9/1.9 MB\u001b[0m \u001b[31m16.9 MB/s\u001b[0m eta \u001b[36m0:00:00\u001b[0m\n",
      "\u001b[?25hDownloading python_multipart-0.0.20-py3-none-any.whl (24 kB)\n",
      "Downloading ruff-0.11.5-py3-none-macosx_11_0_arm64.whl (10.2 MB)\n",
      "\u001b[2K   \u001b[90m━━━━━━━━━━━━━━━━━━━━━━━━━━━━━━━━━━━━━━━━\u001b[0m \u001b[32m10.2/10.2 MB\u001b[0m \u001b[31m21.3 MB/s\u001b[0m eta \u001b[36m0:00:00\u001b[0m \u001b[36m0:00:01\u001b[0m\n",
      "\u001b[?25hDownloading safehttpx-0.1.6-py3-none-any.whl (8.7 kB)\n",
      "Downloading semantic_version-2.10.0-py2.py3-none-any.whl (15 kB)\n",
      "Downloading starlette-0.46.1-py3-none-any.whl (71 kB)\n",
      "Downloading tomlkit-0.13.2-py3-none-any.whl (37 kB)\n",
      "Downloading typer-0.15.2-py3-none-any.whl (45 kB)\n",
      "Downloading uvicorn-0.34.0-py3-none-any.whl (62 kB)\n",
      "Downloading ffmpy-0.5.0-py3-none-any.whl (6.0 kB)\n",
      "Downloading annotated_types-0.7.0-py3-none-any.whl (13 kB)\n",
      "Downloading rich-14.0.0-py3-none-any.whl (243 kB)\n",
      "Downloading shellingham-1.5.4-py2.py3-none-any.whl (9.8 kB)\n",
      "Downloading typing_inspection-0.4.0-py3-none-any.whl (14 kB)\n",
      "Downloading websockets-15.0.1-cp311-cp311-macosx_11_0_arm64.whl (173 kB)\n",
      "Downloading markdown_it_py-3.0.0-py3-none-any.whl (87 kB)\n",
      "Downloading mdurl-0.1.2-py3-none-any.whl (10.0 kB)\n",
      "Installing collected packages: websockets, uvicorn, typing-inspection, tomlkit, shellingham, semantic-version, ruff, python-multipart, pydantic-core, orjson, mdurl, groovy, ffmpy, annotated-types, aiofiles, starlette, pydantic, markdown-it-py, huggingface-hub, safehttpx, rich, gradio-client, fastapi, typer, gradio\n",
      "  Attempting uninstall: huggingface-hub\n",
      "    Found existing installation: huggingface-hub 0.27.0\n",
      "    Uninstalling huggingface-hub-0.27.0:\n",
      "      Successfully uninstalled huggingface-hub-0.27.0\n",
      "Successfully installed aiofiles-24.1.0 annotated-types-0.7.0 fastapi-0.115.12 ffmpy-0.5.0 gradio-5.25.0 gradio-client-1.8.0 groovy-0.1.2 huggingface-hub-0.30.2 markdown-it-py-3.0.0 mdurl-0.1.2 orjson-3.10.16 pydantic-2.11.3 pydantic-core-2.33.1 python-multipart-0.0.20 rich-14.0.0 ruff-0.11.5 safehttpx-0.1.6 semantic-version-2.10.0 shellingham-1.5.4 starlette-0.46.1 tomlkit-0.13.2 typer-0.15.2 typing-inspection-0.4.0 uvicorn-0.34.0 websockets-15.0.1\n"
     ]
    }
   ],
   "source": [
    "%pip install gradio"
   ]
  },
  {
   "cell_type": "code",
   "execution_count": 1,
   "metadata": {
    "executionInfo": {
     "elapsed": 15865,
     "status": "ok",
     "timestamp": 1740808907705,
     "user": {
      "displayName": "許政揚",
      "userId": "12670967987344070374"
     },
     "user_tz": -480
    },
    "id": "pEq2NFpF0Avf"
   },
   "outputs": [],
   "source": [
    "%matplotlib inline\n",
    "\n",
    "import numpy as np\n",
    "import matplotlib.pyplot as plt\n",
    "from PIL import Image\n",
    "\n",
    "import tensorflow as tf\n",
    "from tensorflow.keras.datasets import mnist\n",
    "from tensorflow.keras.utils import to_categorical\n",
    "from tensorflow.keras.models import Sequential\n",
    "from tensorflow.keras.layers import Dense\n",
    "from tensorflow.keras.optimizers import SGD\n",
    "\n",
    "from ipywidgets import interact_manual\n",
    "\n",
    "import gradio as gr"
   ]
  },
  {
   "cell_type": "markdown",
   "metadata": {
    "id": "yUOFB_020Avg"
   },
   "source": [
    "## 2. MNIST 數據庫\n",
    "\n",
    "MNIST 是一個手寫數字數據集，是 ML 和 Deep Learning 領域最常用的入門數據集之一。它包含 0~9 的手寫數字，用來訓練和測試圖像分類模型。\n",
    "- 訓練集：60,000 張 28×28 的灰階手寫數字圖片與標籤\n",
    "- 測試集：10,000 張 28×28 的灰階手寫數字圖片與標籤\n",
    "- 標籤：數字 0 到 9（共 10 類）\n",
    "- 每張圖片像素值範圍是 0~255"
   ]
  },
  {
   "cell_type": "markdown",
   "metadata": {
    "id": "wVSdolkn0Avg"
   },
   "source": [
    "### 2.1 由 Keras 讀取數據集"
   ]
  },
  {
   "cell_type": "markdown",
   "metadata": {
    "id": "b0UEBwg60Avg"
   },
   "source": [
    "上方程式碼中的 tensorflow.keras.datasets 提供的內建 MNIST 數據集，可以直接載入使用。"
   ]
  },
  {
   "cell_type": "code",
   "execution_count": 3,
   "metadata": {
    "executionInfo": {
     "elapsed": 249,
     "status": "ok",
     "timestamp": 1740809042175,
     "user": {
      "displayName": "許政揚",
      "userId": "12670967987344070374"
     },
     "user_tz": -480
    },
    "id": "LKuZWeVy0Avg"
   },
   "outputs": [
    {
     "name": "stdout",
     "output_type": "stream",
     "text": [
      "Downloading data from https://storage.googleapis.com/tensorflow/tf-keras-datasets/mnist.npz\n",
      "\u001b[1m11490434/11490434\u001b[0m \u001b[32m━━━━━━━━━━━━━━━━━━━━\u001b[0m\u001b[37m\u001b[0m \u001b[1m1s\u001b[0m 0us/step\n"
     ]
    }
   ],
   "source": [
    "(x_train, y_train), (x_test, y_test) = mnist.load_data()"
   ]
  },
  {
   "cell_type": "markdown",
   "metadata": {
    "id": "S9Pj2-M-0Avh"
   },
   "source": [
    "### 以下確認資料格式：\n",
    "- ### 訓練集與測試及分別為 60000、10000 張"
   ]
  },
  {
   "cell_type": "code",
   "execution_count": 4,
   "metadata": {
    "colab": {
     "base_uri": "https://localhost:8080/"
    },
    "executionInfo": {
     "elapsed": 8,
     "status": "ok",
     "timestamp": 1740809044608,
     "user": {
      "displayName": "許政揚",
      "userId": "12670967987344070374"
     },
     "user_tz": -480
    },
    "id": "bG6AjNFVugTt",
    "outputId": "a5f96f7a-7afe-4f85-9669-93df2e167d36"
   },
   "outputs": [
    {
     "name": "stdout",
     "output_type": "stream",
     "text": [
      "(60000, 28, 28)\n",
      "(60000,)\n",
      "(10000, 28, 28)\n",
      "(10000,)\n"
     ]
    }
   ],
   "source": [
    "print(x_train.shape)\n",
    "print(y_train.shape)\n",
    "print(x_test.shape)\n",
    "print(y_test.shape)"
   ]
  },
  {
   "cell_type": "markdown",
   "metadata": {
    "id": "BnTUn8540Avi"
   },
   "source": [
    "### 2.2 數據庫的內容\n",
    "\n",
    "- x 為 0~9 中某數字的圖檔, 格式為 28*28\n",
    "- y 為給定正解"
   ]
  },
  {
   "cell_type": "code",
   "execution_count": 5,
   "metadata": {
    "executionInfo": {
     "elapsed": 3,
     "status": "ok",
     "timestamp": 1740809047326,
     "user": {
      "displayName": "許政揚",
      "userId": "12670967987344070374"
     },
     "user_tz": -480
    },
    "id": "l5RwWLHx0Avi"
   },
   "outputs": [],
   "source": [
    "def show_xy(n=0):\n",
    "    ax = plt.gca()\n",
    "    X = x_train[n]\n",
    "    plt.xticks([], [])\n",
    "    plt.yticks([], [])\n",
    "    plt.imshow(X, cmap = 'Greys')\n",
    "    print(f'訓練集 y 中的答案為: {y_train[n]}')"
   ]
  },
  {
   "cell_type": "markdown",
   "metadata": {
    "id": "fOPj5Mh50Avk"
   },
   "source": [
    "### 2.3 整理輸入格式\n",
    "\n",
    "為了要讓自行建立的標準神經網路學習手寫辨識。需要將原先 28*28 的矩陣型態轉換成長度為 784 的向量。\n",
    "\n",
    "因此需要 reshape 數入資料的格式。\n",
    "\n",
    "而每張圖片的像素質為 0 ~ 255 之間，通常加入一個步驟為 Normalization 將數字縮小至 0 ~ 1 之間。\n",
    "\n",
    "### 以下程式碼提供觀察訓練集中的 x 圖片以及 y 正確答案。\n"
   ]
  },
  {
   "cell_type": "code",
   "execution_count": 6,
   "metadata": {
    "colab": {
     "base_uri": "https://localhost:8080/",
     "height": 487,
     "referenced_widgets": [
      "a9e605a862784e38a9788287bd586d4f",
      "43a28d772550438f8cdec083376ec8f9",
      "45c561a34e8a45c48e8512029b720f1f",
      "02554e3d8f514e72a4b22a78c88bc8a6",
      "ec129d30bd0c4e9bb9689084d7c272f9",
      "6d69e8dd179c4ab2ac52e4e00ca820d1",
      "9d26eb91a9f3486eadf089028b8648d3",
      "c8a720bb86a348879f26cb5feb354e2c",
      "b88972ad724647d89ce652274a8be546",
      "e321fbb135ce4549909679b7d177c1b6"
     ]
    },
    "executionInfo": {
     "elapsed": 65,
     "status": "ok",
     "timestamp": 1740718809252,
     "user": {
      "displayName": "許政揚",
      "userId": "12670967987344070374"
     },
     "user_tz": -480
    },
    "id": "RfBAIU280Avj",
    "outputId": "2dbc59f0-a348-4927-aa77-4c0836fc6b77"
   },
   "outputs": [
    {
     "data": {
      "application/vnd.jupyter.widget-view+json": {
       "model_id": "33fdd2ac46044c10bba166a8c1c9002d",
       "version_major": 2,
       "version_minor": 0
      },
      "text/plain": [
       "interactive(children=(IntSlider(value=0, description='n', max=59999), Button(description='Run Interact', style…"
      ]
     },
     "metadata": {},
     "output_type": "display_data"
    },
    {
     "data": {
      "image/png": "[encoded data removed]",
      "text/plain": [
       "<Figure size 640x480 with 1 Axes>"
      ]
     },
     "metadata": {},
     "output_type": "display_data"
    }
   ],
   "source": [
    "interact_manual(show_xy, n=(0,59999));"
   ]
  },
  {
   "cell_type": "markdown",
   "metadata": {
    "id": "_6m0_jBY79CD"
   },
   "source": [
    "### 以下程式碼將資料格式轉換為長度 784 的向量並做 normalization\n"
   ]
  },
  {
   "cell_type": "code",
   "execution_count": 7,
   "metadata": {
    "colab": {
     "base_uri": "https://localhost:8080/"
    },
    "executionInfo": {
     "elapsed": 212,
     "status": "ok",
     "timestamp": 1740809050316,
     "user": {
      "displayName": "許政揚",
      "userId": "12670967987344070374"
     },
     "user_tz": -480
    },
    "id": "pT7oXt8B0Avk",
    "outputId": "36fad2af-70c6-47d9-a298-3148f83521a4"
   },
   "outputs": [
    {
     "name": "stdout",
     "output_type": "stream",
     "text": [
      "(60000, 784)\n"
     ]
    }
   ],
   "source": [
    "x_train = x_train.reshape(60000, 784)/255\n",
    "x_test = x_test.reshape(10000, 784)/255\n",
    "print(x_train.shape)"
   ]
  },
  {
   "cell_type": "markdown",
   "metadata": {
    "id": "0bOeWxP4MCNC"
   },
   "source": [
    "### 2.4 輸出格式整理（One-Hot Encoding）\n",
    "在此需要 One-Hot Encoding ，以避免數值大小的誤導\n",
    "\n",
    "如果標籤是 0, 1, 2, 3，神經網路可能會認為 3 比 0「大」，但這其實沒有意義。\n",
    "\n",
    "One-Hot Encoding 能確保每個類別彼此獨立，沒有數值大小關係，且適用於分類問題。\n",
    "\n",
    "方便的是 Keras 已具備套件可以幫助完成此編碼。"
   ]
  },
  {
   "cell_type": "code",
   "execution_count": 8,
   "metadata": {
    "colab": {
     "base_uri": "https://localhost:8080/"
    },
    "executionInfo": {
     "elapsed": 4,
     "status": "ok",
     "timestamp": 1740809052134,
     "user": {
      "displayName": "許政揚",
      "userId": "12670967987344070374"
     },
     "user_tz": -480
    },
    "id": "U4vMheejxPX9",
    "outputId": "b69ae50f-223d-4ad7-a480-24fa05b580bc"
   },
   "outputs": [
    {
     "data": {
      "text/plain": [
       "5"
      ]
     },
     "execution_count": 8,
     "metadata": {},
     "output_type": "execute_result"
    }
   ],
   "source": [
    "y_train[5678]"
   ]
  },
  {
   "cell_type": "markdown",
   "metadata": {
    "id": "Dk5wYTCBTqG3"
   },
   "source": [
    "### 以上觀察 y_train 其中一個答案為 5\n"
   ]
  },
  {
   "cell_type": "code",
   "execution_count": 9,
   "metadata": {
    "executionInfo": {
     "elapsed": 6,
     "status": "ok",
     "timestamp": 1740809059534,
     "user": {
      "displayName": "許政揚",
      "userId": "12670967987344070374"
     },
     "user_tz": -480
    },
    "id": "_i22oLVf0Avl"
   },
   "outputs": [],
   "source": [
    "y_train = to_categorical(y_train, 10)\n",
    "y_test = to_categorical(y_test, 10)"
   ]
  },
  {
   "cell_type": "code",
   "execution_count": 10,
   "metadata": {
    "colab": {
     "base_uri": "https://localhost:8080/"
    },
    "executionInfo": {
     "elapsed": 7,
     "status": "ok",
     "timestamp": 1740809068153,
     "user": {
      "displayName": "許政揚",
      "userId": "12670967987344070374"
     },
     "user_tz": -480
    },
    "id": "SxkwtCy-0Avm",
    "outputId": "53b1a709-4fb1-4c10-a063-27adb8ae2dc2"
   },
   "outputs": [
    {
     "data": {
      "text/plain": [
       "array([0., 0., 0., 0., 0., 1., 0., 0., 0., 0.])"
      ]
     },
     "execution_count": 10,
     "metadata": {},
     "output_type": "execute_result"
    }
   ],
   "source": [
    "n = 5678\n",
    "y_train[n]"
   ]
  },
  {
   "cell_type": "markdown",
   "metadata": {
    "id": "LBBc2NsJ0Avm"
   },
   "source": [
    "### 以上反應壓縮成 10 維的向量後，觀察到第 6 個位置是 '1' 代表答案為 5"
   ]
  },
  {
   "cell_type": "markdown",
   "metadata": {
    "id": "4MDhWZk10Avm"
   },
   "source": [
    "## 3. 建立神經網路\n",
    "\n",
    "使用標準神網路，需要設定：\n",
    "- 隱藏層數量\n",
    "- 各層神經元數量\n",
    "- 激發函數為何？（例如 ReLU）"
   ]
  },
  {
   "cell_type": "markdown",
   "metadata": {
    "id": "m41UZZdF0Avm"
   },
   "source": [
    "### 3.1 設定神經網路\n",
    "\n",
    "使用 `Sequential`, 打開一個神經網路。"
   ]
  },
  {
   "cell_type": "code",
   "execution_count": 11,
   "metadata": {
    "executionInfo": {
     "elapsed": 39,
     "status": "ok",
     "timestamp": 1740809737467,
     "user": {
      "displayName": "許政揚",
      "userId": "12670967987344070374"
     },
     "user_tz": -480
    },
    "id": "F_fx6jw80Avm"
   },
   "outputs": [],
   "source": [
    "model = Sequential()"
   ]
  },
  {
   "cell_type": "markdown",
   "metadata": {
    "id": "tm9L8SfT0Avn"
   },
   "source": [
    "TensorFlow 不知道輸入的長度為 784 個維度，因此在第一個隱藏層要告訴它。"
   ]
  },
  {
   "cell_type": "code",
   "execution_count": 14,
   "metadata": {
    "colab": {
     "base_uri": "https://localhost:8080/"
    },
    "executionInfo": {
     "elapsed": 2429,
     "status": "ok",
     "timestamp": 1740809741280,
     "user": {
      "displayName": "許政揚",
      "userId": "12670967987344070374"
     },
     "user_tz": -480
    },
    "id": "wrBnZ3Xw0Avn",
    "outputId": "2db287cc-4570-45a8-cefb-3c28ed3bf3dc"
   },
   "outputs": [
    {
     "name": "stderr",
     "output_type": "stream",
     "text": [
      "/Users/andrewhsu/Documents/生成式AI/.venv/lib/python3.11/site-packages/keras/src/layers/core/dense.py:87: UserWarning: Do not pass an `input_shape`/`input_dim` argument to a layer. When using Sequential models, prefer using an `Input(shape)` object as the first layer in the model instead.\n",
      "  super().__init__(activity_regularizer=activity_regularizer, **kwargs)\n"
     ]
    }
   ],
   "source": [
    "model.add(Dense(N1, input_dim=784, activation='relu'))"
   ]
  },
  {
   "cell_type": "markdown",
   "metadata": {
    "id": "sbcJBOtk0Avn"
   },
   "source": [
    "第二層後，不需要再說明輸入神經元個數。\n",
    "\n",
    "此神經網路設定為總共 4 層，且激發函數為 \"ReLU\""
   ]
  },
  {
   "cell_type": "code",
   "execution_count": 15,
   "metadata": {
    "executionInfo": {
     "elapsed": 61,
     "status": "ok",
     "timestamp": 1740809873342,
     "user": {
      "displayName": "許政揚",
      "userId": "12670967987344070374"
     },
     "user_tz": -480
    },
    "id": "4UtBjkQh0Avn"
   },
   "outputs": [],
   "source": [
    "model.add(Dense(N2, activation='relu'))"
   ]
  },
  {
   "cell_type": "code",
   "execution_count": 16,
   "metadata": {
    "executionInfo": {
     "elapsed": 14,
     "status": "ok",
     "timestamp": 1740809874475,
     "user": {
      "displayName": "許政揚",
      "userId": "12670967987344070374"
     },
     "user_tz": -480
    },
    "id": "v3pVDFVR0Avn"
   },
   "outputs": [],
   "source": [
    "model.add(Dense(N3, activation='relu'))"
   ]
  },
  {
   "cell_type": "code",
   "execution_count": 17,
   "metadata": {
    "executionInfo": {
     "elapsed": 10,
     "status": "ok",
     "timestamp": 1740809875748,
     "user": {
      "displayName": "許政揚",
      "userId": "12670967987344070374"
     },
     "user_tz": -480
    },
    "id": "S8hy8TFfWPbE"
   },
   "outputs": [],
   "source": [
    "model.add(Dense(N4, activation='relu'))"
   ]
  },
  {
   "cell_type": "markdown",
   "metadata": {
    "id": "d1cfWRkD0Avn"
   },
   "source": [
    "以上程式碼中，最後 \"softmax\" 為一個激活函數，於將輸出的數值轉換為機率分布，\n",
    "\n",
    "因為此為分類問題，因此 0~9 中的 10 個類別機率相加要為1，如下式\n",
    "\n",
    "$$\\sum_{i=1}^{10} y_i = 1$$\n"
   ]
  },
  {
   "cell_type": "code",
   "execution_count": 18,
   "metadata": {
    "executionInfo": {
     "elapsed": 46,
     "status": "ok",
     "timestamp": 1740810218370,
     "user": {
      "displayName": "許政揚",
      "userId": "12670967987344070374"
     },
     "user_tz": -480
    },
    "id": "H6P7C6Nk0Avo"
   },
   "outputs": [],
   "source": [
    "model.add(Dense(10, activation='softmax')) #此為固定"
   ]
  },
  {
   "cell_type": "markdown",
   "metadata": {
    "id": "kjEWy_q10Avo"
   },
   "source": [
    "至此我們的第一個神經網路就建好了!"
   ]
  },
  {
   "cell_type": "markdown",
   "metadata": {
    "id": "5znBU0DV0Avo"
   },
   "source": [
    "### 3.2 Compile 神經網路\n",
    "因為這個神經網路對應的為分類問題，且又經過 One-Hot Encoding 的轉換，\n",
    "因此這邊更改以下設定：\n",
    "\n",
    "* 損失函數：交叉熵損失（Cross-Entropy Loss）；原先的 MSE 較適合迴歸問題\n",
    "* optimizer：\"Adam\" ；其學習較快速、穩定\n",
    "* 若使用 \"Adam\" 則不需要指定 learning rate"
   ]
  },
  {
   "cell_type": "code",
   "execution_count": 19,
   "metadata": {
    "executionInfo": {
     "elapsed": 11,
     "status": "ok",
     "timestamp": 1740810449623,
     "user": {
      "displayName": "許政揚",
      "userId": "12670967987344070374"
     },
     "user_tz": -480
    },
    "id": "lGLgh8Gz0Avo"
   },
   "outputs": [],
   "source": [
    "model.compile(loss='categorical_crossentropy' , optimizer='adam', metrics=['accuracy'])"
   ]
  },
  {
   "cell_type": "markdown",
   "metadata": {
    "id": "xf9ykvbJ0Avo"
   },
   "source": [
    "## 4. 檢視神經網路"
   ]
  },
  {
   "cell_type": "code",
   "execution_count": 20,
   "metadata": {
    "colab": {
     "base_uri": "https://localhost:8080/",
     "height": 293
    },
    "executionInfo": {
     "elapsed": 109,
     "status": "ok",
     "timestamp": 1740810454635,
     "user": {
      "displayName": "許政揚",
      "userId": "12670967987344070374"
     },
     "user_tz": -480
    },
    "id": "0yJJowZE0Avp",
    "outputId": "ebfb6041-ca75-4095-c03b-c3235908a052"
   },
   "outputs": [
    {
     "data": {
      "text/html": [
       "<pre style=\"white-space:pre;overflow-x:auto;line-height:normal;font-family:Menlo,'DejaVu Sans Mono',consolas,'Courier New',monospace\"><span style=\"font-weight: bold\">Model: \"sequential\"</span>\n",
       "</pre>\n"
      ],
      "text/plain": [
       "\u001b[1mModel: \"sequential\"\u001b[0m\n"
      ]
     },
     "metadata": {},
     "output_type": "display_data"
    },
    {
     "data": {
      "text/html": [
       "<pre style=\"white-space:pre;overflow-x:auto;line-height:normal;font-family:Menlo,'DejaVu Sans Mono',consolas,'Courier New',monospace\">┏━━━━━━━━━━━━━━━━━━━━━━━━━━━━━━━━━┳━━━━━━━━━━━━━━━━━━━━━━━━┳━━━━━━━━━━━━━━━┓\n",
       "┃<span style=\"font-weight: bold\"> Layer (type)                    </span>┃<span style=\"font-weight: bold\"> Output Shape           </span>┃<span style=\"font-weight: bold\">       Param # </span>┃\n",
       "┡━━━━━━━━━━━━━━━━━━━━━━━━━━━━━━━━━╇━━━━━━━━━━━━━━━━━━━━━━━━╇━━━━━━━━━━━━━━━┩\n",
       "│ dense (<span style=\"color: #0087ff; text-decoration-color: #0087ff\">Dense</span>)                   │ (<span style=\"color: #00d7ff; text-decoration-color: #00d7ff\">None</span>, <span style=\"color: #00af00; text-decoration-color: #00af00\">256</span>)            │       <span style=\"color: #00af00; text-decoration-color: #00af00\">200,960</span> │\n",
       "├─────────────────────────────────┼────────────────────────┼───────────────┤\n",
       "│ dense_1 (<span style=\"color: #0087ff; text-decoration-color: #0087ff\">Dense</span>)                 │ (<span style=\"color: #00d7ff; text-decoration-color: #00d7ff\">None</span>, <span style=\"color: #00af00; text-decoration-color: #00af00\">128</span>)            │        <span style=\"color: #00af00; text-decoration-color: #00af00\">32,896</span> │\n",
       "├─────────────────────────────────┼────────────────────────┼───────────────┤\n",
       "│ dense_2 (<span style=\"color: #0087ff; text-decoration-color: #0087ff\">Dense</span>)                 │ (<span style=\"color: #00d7ff; text-decoration-color: #00d7ff\">None</span>, <span style=\"color: #00af00; text-decoration-color: #00af00\">64</span>)             │         <span style=\"color: #00af00; text-decoration-color: #00af00\">8,256</span> │\n",
       "├─────────────────────────────────┼────────────────────────┼───────────────┤\n",
       "│ dense_3 (<span style=\"color: #0087ff; text-decoration-color: #0087ff\">Dense</span>)                 │ (<span style=\"color: #00d7ff; text-decoration-color: #00d7ff\">None</span>, <span style=\"color: #00af00; text-decoration-color: #00af00\">32</span>)             │         <span style=\"color: #00af00; text-decoration-color: #00af00\">2,080</span> │\n",
       "├─────────────────────────────────┼────────────────────────┼───────────────┤\n",
       "│ dense_4 (<span style=\"color: #0087ff; text-decoration-color: #0087ff\">Dense</span>)                 │ (<span style=\"color: #00d7ff; text-decoration-color: #00d7ff\">None</span>, <span style=\"color: #00af00; text-decoration-color: #00af00\">10</span>)             │           <span style=\"color: #00af00; text-decoration-color: #00af00\">330</span> │\n",
       "└─────────────────────────────────┴────────────────────────┴───────────────┘\n",
       "</pre>\n"
      ],
      "text/plain": [
       "┏━━━━━━━━━━━━━━━━━━━━━━━━━━━━━━━━━┳━━━━━━━━━━━━━━━━━━━━━━━━┳━━━━━━━━━━━━━━━┓\n",
       "┃\u001b[1m \u001b[0m\u001b[1mLayer (type)                   \u001b[0m\u001b[1m \u001b[0m┃\u001b[1m \u001b[0m\u001b[1mOutput Shape          \u001b[0m\u001b[1m \u001b[0m┃\u001b[1m \u001b[0m\u001b[1m      Param #\u001b[0m\u001b[1m \u001b[0m┃\n",
       "┡━━━━━━━━━━━━━━━━━━━━━━━━━━━━━━━━━╇━━━━━━━━━━━━━━━━━━━━━━━━╇━━━━━━━━━━━━━━━┩\n",
       "│ dense (\u001b[38;5;33mDense\u001b[0m)                   │ (\u001b[38;5;45mNone\u001b[0m, \u001b[38;5;34m256\u001b[0m)            │       \u001b[38;5;34m200,960\u001b[0m │\n",
       "├─────────────────────────────────┼────────────────────────┼───────────────┤\n",
       "│ dense_1 (\u001b[38;5;33mDense\u001b[0m)                 │ (\u001b[38;5;45mNone\u001b[0m, \u001b[38;5;34m128\u001b[0m)            │        \u001b[38;5;34m32,896\u001b[0m │\n",
       "├─────────────────────────────────┼────────────────────────┼───────────────┤\n",
       "│ dense_2 (\u001b[38;5;33mDense\u001b[0m)                 │ (\u001b[38;5;45mNone\u001b[0m, \u001b[38;5;34m64\u001b[0m)             │         \u001b[38;5;34m8,256\u001b[0m │\n",
       "├─────────────────────────────────┼────────────────────────┼───────────────┤\n",
       "│ dense_3 (\u001b[38;5;33mDense\u001b[0m)                 │ (\u001b[38;5;45mNone\u001b[0m, \u001b[38;5;34m32\u001b[0m)             │         \u001b[38;5;34m2,080\u001b[0m │\n",
       "├─────────────────────────────────┼────────────────────────┼───────────────┤\n",
       "│ dense_4 (\u001b[38;5;33mDense\u001b[0m)                 │ (\u001b[38;5;45mNone\u001b[0m, \u001b[38;5;34m10\u001b[0m)             │           \u001b[38;5;34m330\u001b[0m │\n",
       "└─────────────────────────────────┴────────────────────────┴───────────────┘\n"
      ]
     },
     "metadata": {},
     "output_type": "display_data"
    },
    {
     "data": {
      "text/html": [
       "<pre style=\"white-space:pre;overflow-x:auto;line-height:normal;font-family:Menlo,'DejaVu Sans Mono',consolas,'Courier New',monospace\"><span style=\"font-weight: bold\"> Total params: </span><span style=\"color: #00af00; text-decoration-color: #00af00\">244,522</span> (955.16 KB)\n",
       "</pre>\n"
      ],
      "text/plain": [
       "\u001b[1m Total params: \u001b[0m\u001b[38;5;34m244,522\u001b[0m (955.16 KB)\n"
      ]
     },
     "metadata": {},
     "output_type": "display_data"
    },
    {
     "data": {
      "text/html": [
       "<pre style=\"white-space:pre;overflow-x:auto;line-height:normal;font-family:Menlo,'DejaVu Sans Mono',consolas,'Courier New',monospace\"><span style=\"font-weight: bold\"> Trainable params: </span><span style=\"color: #00af00; text-decoration-color: #00af00\">244,522</span> (955.16 KB)\n",
       "</pre>\n"
      ],
      "text/plain": [
       "\u001b[1m Trainable params: \u001b[0m\u001b[38;5;34m244,522\u001b[0m (955.16 KB)\n"
      ]
     },
     "metadata": {},
     "output_type": "display_data"
    },
    {
     "data": {
      "text/html": [
       "<pre style=\"white-space:pre;overflow-x:auto;line-height:normal;font-family:Menlo,'DejaVu Sans Mono',consolas,'Courier New',monospace\"><span style=\"font-weight: bold\"> Non-trainable params: </span><span style=\"color: #00af00; text-decoration-color: #00af00\">0</span> (0.00 B)\n",
       "</pre>\n"
      ],
      "text/plain": [
       "\u001b[1m Non-trainable params: \u001b[0m\u001b[38;5;34m0\u001b[0m (0.00 B)\n"
      ]
     },
     "metadata": {},
     "output_type": "display_data"
    }
   ],
   "source": [
    "model.summary()"
   ]
  },
  {
   "cell_type": "markdown",
   "metadata": {
    "id": "3FvAWE4h0Avp"
   },
   "source": [
    "以上表格顯示，此神經網路是一個 5 層全連接的分類模型。隱藏層依次為 256、128、64、32 個神經元，輸出層為 10 個神經元，使用 softmax 進行數字分類。\n",
    "總參數數量為 244,522 且皆可訓練。"
   ]
  },
  {
   "cell_type": "markdown",
   "metadata": {
    "id": "R5VHPpfd0Avp"
   },
   "source": [
    "## 5. 訓練神經網路\n",
    "\n",
    "在此設定以下訓練參數：\n",
    "* `batch_size` = 100\n",
    "* `epochs` =  20"
   ]
  },
  {
   "cell_type": "code",
   "execution_count": 21,
   "metadata": {
    "colab": {
     "base_uri": "https://localhost:8080/"
    },
    "executionInfo": {
     "elapsed": 42826,
     "status": "ok",
     "timestamp": 1740812062191,
     "user": {
      "displayName": "許政揚",
      "userId": "12670967987344070374"
     },
     "user_tz": -480
    },
    "id": "1jwuUx4a0Avq",
    "outputId": "17d87de7-7eb0-46f1-ee2b-f71ac9fd5f1d"
   },
   "outputs": [
    {
     "name": "stdout",
     "output_type": "stream",
     "text": [
      "Epoch 1/20\n",
      "\u001b[1m600/600\u001b[0m \u001b[32m━━━━━━━━━━━━━━━━━━━━\u001b[0m\u001b[37m\u001b[0m \u001b[1m2s\u001b[0m 2ms/step - accuracy: 0.8443 - loss: 0.5252\n",
      "Epoch 2/20\n",
      "\u001b[1m600/600\u001b[0m \u001b[32m━━━━━━━━━━━━━━━━━━━━\u001b[0m\u001b[37m\u001b[0m \u001b[1m2s\u001b[0m 3ms/step - accuracy: 0.9647 - loss: 0.1146\n",
      "Epoch 3/20\n",
      "\u001b[1m600/600\u001b[0m \u001b[32m━━━━━━━━━━━━━━━━━━━━\u001b[0m\u001b[37m\u001b[0m \u001b[1m1s\u001b[0m 2ms/step - accuracy: 0.9781 - loss: 0.0689\n",
      "Epoch 4/20\n",
      "\u001b[1m600/600\u001b[0m \u001b[32m━━━━━━━━━━━━━━━━━━━━\u001b[0m\u001b[37m\u001b[0m \u001b[1m2s\u001b[0m 3ms/step - accuracy: 0.9856 - loss: 0.0467\n",
      "Epoch 5/20\n",
      "\u001b[1m600/600\u001b[0m \u001b[32m━━━━━━━━━━━━━━━━━━━━\u001b[0m\u001b[37m\u001b[0m \u001b[1m1s\u001b[0m 2ms/step - accuracy: 0.9869 - loss: 0.0399\n",
      "Epoch 6/20\n",
      "\u001b[1m600/600\u001b[0m \u001b[32m━━━━━━━━━━━━━━━━━━━━\u001b[0m\u001b[37m\u001b[0m \u001b[1m1s\u001b[0m 2ms/step - accuracy: 0.9903 - loss: 0.0306\n",
      "Epoch 7/20\n",
      "\u001b[1m600/600\u001b[0m \u001b[32m━━━━━━━━━━━━━━━━━━━━\u001b[0m\u001b[37m\u001b[0m \u001b[1m1s\u001b[0m 2ms/step - accuracy: 0.9923 - loss: 0.0250\n",
      "Epoch 8/20\n",
      "\u001b[1m600/600\u001b[0m \u001b[32m━━━━━━━━━━━━━━━━━━━━\u001b[0m\u001b[37m\u001b[0m \u001b[1m1s\u001b[0m 2ms/step - accuracy: 0.9930 - loss: 0.0227\n",
      "Epoch 9/20\n",
      "\u001b[1m600/600\u001b[0m \u001b[32m━━━━━━━━━━━━━━━━━━━━\u001b[0m\u001b[37m\u001b[0m \u001b[1m1s\u001b[0m 2ms/step - accuracy: 0.9935 - loss: 0.0205\n",
      "Epoch 10/20\n",
      "\u001b[1m600/600\u001b[0m \u001b[32m━━━━━━━━━━━━━━━━━━━━\u001b[0m\u001b[37m\u001b[0m \u001b[1m2s\u001b[0m 2ms/step - accuracy: 0.9946 - loss: 0.0169\n",
      "Epoch 11/20\n",
      "\u001b[1m600/600\u001b[0m \u001b[32m━━━━━━━━━━━━━━━━━━━━\u001b[0m\u001b[37m\u001b[0m \u001b[1m1s\u001b[0m 2ms/step - accuracy: 0.9951 - loss: 0.0153\n",
      "Epoch 12/20\n",
      "\u001b[1m600/600\u001b[0m \u001b[32m━━━━━━━━━━━━━━━━━━━━\u001b[0m\u001b[37m\u001b[0m \u001b[1m2s\u001b[0m 3ms/step - accuracy: 0.9948 - loss: 0.0175\n",
      "Epoch 13/20\n",
      "\u001b[1m600/600\u001b[0m \u001b[32m━━━━━━━━━━━━━━━━━━━━\u001b[0m\u001b[37m\u001b[0m \u001b[1m1s\u001b[0m 2ms/step - accuracy: 0.9956 - loss: 0.0127\n",
      "Epoch 14/20\n",
      "\u001b[1m600/600\u001b[0m \u001b[32m━━━━━━━━━━━━━━━━━━━━\u001b[0m\u001b[37m\u001b[0m \u001b[1m1s\u001b[0m 2ms/step - accuracy: 0.9954 - loss: 0.0137\n",
      "Epoch 15/20\n",
      "\u001b[1m600/600\u001b[0m \u001b[32m━━━━━━━━━━━━━━━━━━━━\u001b[0m\u001b[37m\u001b[0m \u001b[1m2s\u001b[0m 3ms/step - accuracy: 0.9952 - loss: 0.0147\n",
      "Epoch 16/20\n",
      "\u001b[1m600/600\u001b[0m \u001b[32m━━━━━━━━━━━━━━━━━━━━\u001b[0m\u001b[37m\u001b[0m \u001b[1m1s\u001b[0m 2ms/step - accuracy: 0.9961 - loss: 0.0125\n",
      "Epoch 17/20\n",
      "\u001b[1m600/600\u001b[0m \u001b[32m━━━━━━━━━━━━━━━━━━━━\u001b[0m\u001b[37m\u001b[0m \u001b[1m1s\u001b[0m 2ms/step - accuracy: 0.9971 - loss: 0.0092\n",
      "Epoch 18/20\n",
      "\u001b[1m600/600\u001b[0m \u001b[32m━━━━━━━━━━━━━━━━━━━━\u001b[0m\u001b[37m\u001b[0m \u001b[1m1s\u001b[0m 2ms/step - accuracy: 0.9969 - loss: 0.0092\n",
      "Epoch 19/20\n",
      "\u001b[1m600/600\u001b[0m \u001b[32m━━━━━━━━━━━━━━━━━━━━\u001b[0m\u001b[37m\u001b[0m \u001b[1m2s\u001b[0m 2ms/step - accuracy: 0.9965 - loss: 0.0102\n",
      "Epoch 20/20\n",
      "\u001b[1m600/600\u001b[0m \u001b[32m━━━━━━━━━━━━━━━━━━━━\u001b[0m\u001b[37m\u001b[0m \u001b[1m1s\u001b[0m 2ms/step - accuracy: 0.9969 - loss: 0.0090\n"
     ]
    },
    {
     "data": {
      "text/plain": [
       "<keras.src.callbacks.history.History at 0x303125dd0>"
      ]
     },
     "execution_count": 21,
     "metadata": {},
     "output_type": "execute_result"
    }
   ],
   "source": [
    "model.fit(x_train, y_train, batch_size=100, epochs=20)"
   ]
  },
  {
   "cell_type": "markdown",
   "metadata": {
    "id": "-6ykAvga0Avq"
   },
   "source": [
    "## 6. 測試訓練結果\n",
    "\n",
    "以下為評估模型在測試集的表現：\n",
    "\n",
    "- 準確率 98.18%   → 模型在測試集的表現不錯\n",
    "- 平均損失 0.1204  → 模型的預測誤差相對較小"
   ]
  },
  {
   "cell_type": "code",
   "execution_count": 22,
   "metadata": {
    "colab": {
     "base_uri": "https://localhost:8080/"
    },
    "executionInfo": {
     "elapsed": 2814,
     "status": "ok",
     "timestamp": 1740812080718,
     "user": {
      "displayName": "許政揚",
      "userId": "12670967987344070374"
     },
     "user_tz": -480
    },
    "id": "I9c1E_Cj0Avq",
    "outputId": "307e4e19-37da-4154-9ce4-c62b4a32fefc"
   },
   "outputs": [
    {
     "name": "stdout",
     "output_type": "stream",
     "text": [
      "\u001b[1m313/313\u001b[0m \u001b[32m━━━━━━━━━━━━━━━━━━━━\u001b[0m\u001b[37m\u001b[0m \u001b[1m0s\u001b[0m 871us/step - accuracy: 0.9768 - loss: 0.1133\n"
     ]
    }
   ],
   "source": [
    "loss, acc = model.evaluate(x_test, y_test)"
   ]
  },
  {
   "cell_type": "code",
   "execution_count": 23,
   "metadata": {
    "colab": {
     "base_uri": "https://localhost:8080/"
    },
    "executionInfo": {
     "elapsed": 12,
     "status": "ok",
     "timestamp": 1740812086785,
     "user": {
      "displayName": "許政揚",
      "userId": "12670967987344070374"
     },
     "user_tz": -480
    },
    "id": "Z5XOR_Pd0Avq",
    "outputId": "79d09ca4-e338-4fc4-b0ab-623c852da8ad"
   },
   "outputs": [
    {
     "name": "stdout",
     "output_type": "stream",
     "text": [
      "測試資料正確率 97.93%\n"
     ]
    }
   ],
   "source": [
    "print(f\"測試資料正確率 {acc*100:.2f}%\")"
   ]
  },
  {
   "cell_type": "markdown",
   "metadata": {
    "id": "2RX6YjUj0Avr"
   },
   "source": [
    "### 為了要讓圖形顯示，需要將 `x_test` 中的資料轉換回 28x28 的矩陣"
   ]
  },
  {
   "cell_type": "code",
   "execution_count": 28,
   "metadata": {
    "executionInfo": {
     "elapsed": 4,
     "status": "ok",
     "timestamp": 1740812246990,
     "user": {
      "displayName": "許政揚",
      "userId": "12670967987344070374"
     },
     "user_tz": -480
    },
    "id": "v5i4Cxpo0Avs"
   },
   "outputs": [],
   "source": [
    "def test(測試編號):\n",
    "    plt.imshow(x_test[測試編號].reshape(28,28), cmap='Greys')\n",
    "    prediction = model.predict(x_test[測試編號].reshape(1, 784))\n",
    "    print('神經網路判斷為:', prediction.argmax())"
   ]
  },
  {
   "cell_type": "code",
   "execution_count": 30,
   "metadata": {
    "colab": {
     "base_uri": "https://localhost:8080/",
     "height": 511,
     "referenced_widgets": [
      "ab5af142f3b5479abd7a87ce74a97037",
      "6f9b7f4a36914c7c84e7d5ebaaa52590",
      "f8b81fda0dde4a14a01f0ffcec593e9e",
      "61a7981c14c841debbdb08a6814a12d0",
      "afbaccea62814d9eaf2552ac5a0a9f4c",
      "a1f4d3276be643cf995ec41e775f27c4",
      "249b89b15c664d36bad484712bd7d5de",
      "8b53df8a53814c098009b515f4cd81cb",
      "dd961d422b734c3fa7f74dff7e6a4569",
      "866ea820474e48629d027f3557143c53"
     ]
    },
    "executionInfo": {
     "elapsed": 57,
     "status": "ok",
     "timestamp": 1740812251688,
     "user": {
      "displayName": "許政揚",
      "userId": "12670967987344070374"
     },
     "user_tz": -480
    },
    "id": "-KT1EFNc0Avs",
    "outputId": "744c03f0-4b7b-49ef-bbbb-6c8ea68089c1"
   },
   "outputs": [
    {
     "data": {
      "application/vnd.jupyter.widget-view+json": {
       "model_id": "abf23b293a7d4290acfbb4cf7d152248",
       "version_major": 2,
       "version_minor": 0
      },
      "text/plain": [
       "interactive(children=(IntSlider(value=4999, description='測試編號', max=9999), Button(description='Run Interact', …"
      ]
     },
     "metadata": {},
     "output_type": "display_data"
    },
    {
     "data": {
      "image/png": "[encoded data removed]",
      "text/plain": [
       "<Figure size 640x480 with 1 Axes>"
      ]
     },
     "metadata": {},
     "output_type": "display_data"
    }
   ],
   "source": [
    "interact_manual(test, 測試編號=(0, 9999));"
   ]
  },
  {
   "cell_type": "markdown",
   "metadata": {
    "id": "FWK0fgKgCHa7"
   },
   "source": [
    "### 7. 使用 Gradio 來展示神經網路訓練結果"
   ]
  },
  {
   "cell_type": "code",
   "execution_count": 31,
   "metadata": {
    "executionInfo": {
     "elapsed": 4,
     "status": "ok",
     "timestamp": 1740813153912,
     "user": {
      "displayName": "許政揚",
      "userId": "12670967987344070374"
     },
     "user_tz": -480
    },
    "id": "YCDldfE4eVh6"
   },
   "outputs": [],
   "source": [
    "def resize_image(inp):\n",
    "    image = np.array(inp[\"layers\"][0], dtype=np.float32)\n",
    "    image = image.astype(np.uint8)\n",
    "\n",
    "    image_pil = Image.fromarray(image)\n",
    "\n",
    "    background = Image.new(\"RGB\", image_pil.size, (255, 255, 255))\n",
    "    background.paste(image_pil, mask=image_pil.split()[3])\n",
    "    image_pil = background\n",
    "\n",
    "    image_gray = image_pil.convert(\"L\")\n",
    "\n",
    "    img_array = np.array(image_gray.resize((28, 28), resample=Image.LANCZOS))\n",
    "\n",
    "    img_array = 255 - img_array\n",
    "\n",
    "    img_array = img_array.reshape(1, 784) / 255.0\n",
    "\n",
    "    return img_array"
   ]
  },
  {
   "cell_type": "code",
   "execution_count": 32,
   "metadata": {
    "executionInfo": {
     "elapsed": 39,
     "status": "ok",
     "timestamp": 1740813156808,
     "user": {
      "displayName": "許政揚",
      "userId": "12670967987344070374"
     },
     "user_tz": -480
    },
    "id": "QUejwCO9S7R4"
   },
   "outputs": [],
   "source": [
    "def recognize_digit(inp):\n",
    "    img_array = resize_image(inp)\n",
    "    prediction = model.predict(img_array).flatten()\n",
    "    labels = list('0123456789')\n",
    "    return {labels[i]: float(prediction[i]) for i in range(10)}"
   ]
  },
  {
   "cell_type": "code",
   "execution_count": 33,
   "metadata": {
    "colab": {
     "base_uri": "https://localhost:8080/",
     "height": 680
    },
    "executionInfo": {
     "elapsed": 48968,
     "status": "ok",
     "timestamp": 1740813208855,
     "user": {
      "displayName": "許政揚",
      "userId": "12670967987344070374"
     },
     "user_tz": -480
    },
    "id": "ITOFueb5KSBD",
    "outputId": "970e3a63-319a-4d92-b630-e2e1f58167fe"
   },
   "outputs": [
    {
     "name": "stdout",
     "output_type": "stream",
     "text": [
      "* Running on local URL:  http://127.0.0.1:7860\n",
      "* Running on public URL: https://35b151423e17cdba23.gradio.live\n",
      "\n",
      "This share link expires in 72 hours. For free permanent hosting and GPU upgrades, run `gradio deploy` from the terminal in the working directory to deploy to Hugging Face Spaces (https://huggingface.co/spaces)\n"
     ]
    },
    {
     "data": {
      "text/html": [
       "<div><iframe src=\"https://35b151423e17cdba23.gradio.live\" width=\"100%\" height=\"500\" allow=\"autoplay; camera; microphone; clipboard-read; clipboard-write;\" frameborder=\"0\" allowfullscreen></iframe></div>"
      ],
      "text/plain": [
       "<IPython.core.display.HTML object>"
      ]
     },
     "metadata": {},
     "output_type": "display_data"
    },
    {
     "name": "stdout",
     "output_type": "stream",
     "text": [
      "\u001b[1m1/1\u001b[0m \u001b[32m━━━━━━━━━━━━━━━━━━━━\u001b[0m\u001b[37m\u001b[0m \u001b[1m0s\u001b[0m 26ms/step\n",
      "Keyboard interruption in main thread... closing server.\n",
      "Killing tunnel 127.0.0.1:7860 <> https://35b151423e17cdba23.gradio.live\n"
     ]
    },
    {
     "data": {
      "text/plain": []
     },
     "execution_count": 33,
     "metadata": {},
     "output_type": "execute_result"
    }
   ],
   "source": [
    "iface = gr.Interface(\n",
    "    fn=recognize_digit,\n",
    "    inputs=gr.Sketchpad(),\n",
    "    outputs=gr.Label(num_top_classes=3),\n",
    "    title=\"MNIST 手寫辨識\",\n",
    "    description=\"請在畫板上繪製數字\"\n",
    ")\n",
    "\n",
    "iface.launch(share=True, debug=True)"
   ]
  }
 ],
 "metadata": {
  "accelerator": "GPU",
  "anaconda-cloud": {},
  "colab": {
   "collapsed_sections": [
    "fOPj5Mh50Avk",
    "mQmajlcm0Avl",
    "m41UZZdF0Avm",
    "5znBU0DV0Avo",
    "kV3613iy0Avp"
   ],
   "gpuType": "T4",
   "provenance": [
    {
     "file_id": "https://github.com/yenlung/AI-Demo/blob/master/%E3%80%90Demo01%E3%80%91%E8%A8%AD%E8%A8%88%E4%BD%A0%E7%9A%84%E7%A5%9E%E7%B6%93%E7%B6%B2%E8%B7%AF.ipynb",
     "timestamp": 1740647825988
    }
   ]
  },
  "kernelspec": {
   "display_name": "Python 3",
   "language": "python",
   "name": "python3"
  },
  "language_info": {
   "codemirror_mode": {
    "name": "ipython",
    "version": 3
   },
   "file_extension": ".py",
   "mimetype": "text/x-python",
   "name": "python",
   "nbconvert_exporter": "python",
   "pygments_lexer": "ipython3",
   "version": "3.11.5"
  },
  "widgets": {
   "application/vnd.jupyter.widget-state+json": {
    "02554e3d8f514e72a4b22a78c88bc8a6": {
     "model_module": "@jupyter-widgets/output",
     "model_module_version": "1.0.0",
     "model_name": "OutputModel",
     "state": {
      "_dom_classes": [],
      "_model_module": "@jupyter-widgets/output",
      "_model_module_version": "1.0.0",
      "_model_name": "OutputModel",
      "_view_count": null,
      "_view_module": "@jupyter-widgets/output",
      "_view_module_version": "1.0.0",
      "_view_name": "OutputView",
      "layout": "IPY_MODEL_e321fbb135ce4549909679b7d177c1b6",
      "msg_id": "",
      "outputs": [
       {
        "name": "stdout",
        "output_type": "stream",
        "text": [
         "訓練集 y 中的答案為: 6\n"
        ]
       },
       {
        "data": {
         "image/png": "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\n",
         "text/plain": "<Figure size 640x480 with 1 Axes>"
        },
        "metadata": {},
        "output_type": "display_data"
       }
      ]
     }
    },
    "249b89b15c664d36bad484712bd7d5de": {
     "model_module": "@jupyter-widgets/controls",
     "model_module_version": "1.5.0",
     "model_name": "SliderStyleModel",
     "state": {
      "_model_module": "@jupyter-widgets/controls",
      "_model_module_version": "1.5.0",
      "_model_name": "SliderStyleModel",
      "_view_count": null,
      "_view_module": "@jupyter-widgets/base",
      "_view_module_version": "1.2.0",
      "_view_name": "StyleView",
      "description_width": "",
      "handle_color": null
     }
    },
    "43a28d772550438f8cdec083376ec8f9": {
     "model_module": "@jupyter-widgets/controls",
     "model_module_version": "1.5.0",
     "model_name": "IntSliderModel",
     "state": {
      "_dom_classes": [],
      "_model_module": "@jupyter-widgets/controls",
      "_model_module_version": "1.5.0",
      "_model_name": "IntSliderModel",
      "_view_count": null,
      "_view_module": "@jupyter-widgets/controls",
      "_view_module_version": "1.5.0",
      "_view_name": "IntSliderView",
      "continuous_update": true,
      "description": "n",
      "description_tooltip": null,
      "disabled": false,
      "layout": "IPY_MODEL_6d69e8dd179c4ab2ac52e4e00ca820d1",
      "max": 59999,
      "min": 0,
      "orientation": "horizontal",
      "readout": true,
      "readout_format": "d",
      "step": 1,
      "style": "IPY_MODEL_9d26eb91a9f3486eadf089028b8648d3",
      "value": 9872
     }
    },
    "45c561a34e8a45c48e8512029b720f1f": {
     "model_module": "@jupyter-widgets/controls",
     "model_module_version": "1.5.0",
     "model_name": "ButtonModel",
     "state": {
      "_dom_classes": [],
      "_model_module": "@jupyter-widgets/controls",
      "_model_module_version": "1.5.0",
      "_model_name": "ButtonModel",
      "_view_count": null,
      "_view_module": "@jupyter-widgets/controls",
      "_view_module_version": "1.5.0",
      "_view_name": "ButtonView",
      "button_style": "",
      "description": "Run Interact",
      "disabled": false,
      "icon": "",
      "layout": "IPY_MODEL_c8a720bb86a348879f26cb5feb354e2c",
      "style": "IPY_MODEL_b88972ad724647d89ce652274a8be546",
      "tooltip": ""
     }
    },
    "61a7981c14c841debbdb08a6814a12d0": {
     "model_module": "@jupyter-widgets/output",
     "model_module_version": "1.0.0",
     "model_name": "OutputModel",
     "state": {
      "_dom_classes": [],
      "_model_module": "@jupyter-widgets/output",
      "_model_module_version": "1.0.0",
      "_model_name": "OutputModel",
      "_view_count": null,
      "_view_module": "@jupyter-widgets/output",
      "_view_module_version": "1.0.0",
      "_view_name": "OutputView",
      "layout": "IPY_MODEL_866ea820474e48629d027f3557143c53",
      "msg_id": "",
      "outputs": [
       {
        "name": "stdout",
        "output_type": "stream",
        "text": [
         "神經網路判斷為: 6\n"
        ]
       },
       {
        "data": {
         "image/png": "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\n",
         "text/plain": "<Figure size 640x480 with 1 Axes>"
        },
        "metadata": {},
        "output_type": "display_data"
       }
      ]
     }
    },
    "6d69e8dd179c4ab2ac52e4e00ca820d1": {
     "model_module": "@jupyter-widgets/base",
     "model_module_version": "1.2.0",
     "model_name": "LayoutModel",
     "state": {
      "_model_module": "@jupyter-widgets/base",
      "_model_module_version": "1.2.0",
      "_model_name": "LayoutModel",
      "_view_count": null,
      "_view_module": "@jupyter-widgets/base",
      "_view_module_version": "1.2.0",
      "_view_name": "LayoutView",
      "align_content": null,
      "align_items": null,
      "align_self": null,
      "border": null,
      "bottom": null,
      "display": null,
      "flex": null,
      "flex_flow": null,
      "grid_area": null,
      "grid_auto_columns": null,
      "grid_auto_flow": null,
      "grid_auto_rows": null,
      "grid_column": null,
      "grid_gap": null,
      "grid_row": null,
      "grid_template_areas": null,
      "grid_template_columns": null,
      "grid_template_rows": null,
      "height": null,
      "justify_content": null,
      "justify_items": null,
      "left": null,
      "margin": null,
      "max_height": null,
      "max_width": null,
      "min_height": null,
      "min_width": null,
      "object_fit": null,
      "object_position": null,
      "order": null,
      "overflow": null,
      "overflow_x": null,
      "overflow_y": null,
      "padding": null,
      "right": null,
      "top": null,
      "visibility": null,
      "width": null
     }
    },
    "6f9b7f4a36914c7c84e7d5ebaaa52590": {
     "model_module": "@jupyter-widgets/controls",
     "model_module_version": "1.5.0",
     "model_name": "IntSliderModel",
     "state": {
      "_dom_classes": [],
      "_model_module": "@jupyter-widgets/controls",
      "_model_module_version": "1.5.0",
      "_model_name": "IntSliderModel",
      "_view_count": null,
      "_view_module": "@jupyter-widgets/controls",
      "_view_module_version": "1.5.0",
      "_view_name": "IntSliderView",
      "continuous_update": true,
      "description": "測試編號",
      "description_tooltip": null,
      "disabled": false,
      "layout": "IPY_MODEL_a1f4d3276be643cf995ec41e775f27c4",
      "max": 9999,
      "min": 0,
      "orientation": "horizontal",
      "readout": true,
      "readout_format": "d",
      "step": 1,
      "style": "IPY_MODEL_249b89b15c664d36bad484712bd7d5de",
      "value": 2562
     }
    },
    "866ea820474e48629d027f3557143c53": {
     "model_module": "@jupyter-widgets/base",
     "model_module_version": "1.2.0",
     "model_name": "LayoutModel",
     "state": {
      "_model_module": "@jupyter-widgets/base",
      "_model_module_version": "1.2.0",
      "_model_name": "LayoutModel",
      "_view_count": null,
      "_view_module": "@jupyter-widgets/base",
      "_view_module_version": "1.2.0",
      "_view_name": "LayoutView",
      "align_content": null,
      "align_items": null,
      "align_self": null,
      "border": null,
      "bottom": null,
      "display": null,
      "flex": null,
      "flex_flow": null,
      "grid_area": null,
      "grid_auto_columns": null,
      "grid_auto_flow": null,
      "grid_auto_rows": null,
      "grid_column": null,
      "grid_gap": null,
      "grid_row": null,
      "grid_template_areas": null,
      "grid_template_columns": null,
      "grid_template_rows": null,
      "height": null,
      "justify_content": null,
      "justify_items": null,
      "left": null,
      "margin": null,
      "max_height": null,
      "max_width": null,
      "min_height": null,
      "min_width": null,
      "object_fit": null,
      "object_position": null,
      "order": null,
      "overflow": null,
      "overflow_x": null,
      "overflow_y": null,
      "padding": null,
      "right": null,
      "top": null,
      "visibility": null,
      "width": null
     }
    },
    "8b53df8a53814c098009b515f4cd81cb": {
     "model_module": "@jupyter-widgets/base",
     "model_module_version": "1.2.0",
     "model_name": "LayoutModel",
     "state": {
      "_model_module": "@jupyter-widgets/base",
      "_model_module_version": "1.2.0",
      "_model_name": "LayoutModel",
      "_view_count": null,
      "_view_module": "@jupyter-widgets/base",
      "_view_module_version": "1.2.0",
      "_view_name": "LayoutView",
      "align_content": null,
      "align_items": null,
      "align_self": null,
      "border": null,
      "bottom": null,
      "display": null,
      "flex": null,
      "flex_flow": null,
      "grid_area": null,
      "grid_auto_columns": null,
      "grid_auto_flow": null,
      "grid_auto_rows": null,
      "grid_column": null,
      "grid_gap": null,
      "grid_row": null,
      "grid_template_areas": null,
      "grid_template_columns": null,
      "grid_template_rows": null,
      "height": null,
      "justify_content": null,
      "justify_items": null,
      "left": null,
      "margin": null,
      "max_height": null,
      "max_width": null,
      "min_height": null,
      "min_width": null,
      "object_fit": null,
      "object_position": null,
      "order": null,
      "overflow": null,
      "overflow_x": null,
      "overflow_y": null,
      "padding": null,
      "right": null,
      "top": null,
      "visibility": null,
      "width": null
     }
    },
    "9d26eb91a9f3486eadf089028b8648d3": {
     "model_module": "@jupyter-widgets/controls",
     "model_module_version": "1.5.0",
     "model_name": "SliderStyleModel",
     "state": {
      "_model_module": "@jupyter-widgets/controls",
      "_model_module_version": "1.5.0",
      "_model_name": "SliderStyleModel",
      "_view_count": null,
      "_view_module": "@jupyter-widgets/base",
      "_view_module_version": "1.2.0",
      "_view_name": "StyleView",
      "description_width": "",
      "handle_color": null
     }
    },
    "a1f4d3276be643cf995ec41e775f27c4": {
     "model_module": "@jupyter-widgets/base",
     "model_module_version": "1.2.0",
     "model_name": "LayoutModel",
     "state": {
      "_model_module": "@jupyter-widgets/base",
      "_model_module_version": "1.2.0",
      "_model_name": "LayoutModel",
      "_view_count": null,
      "_view_module": "@jupyter-widgets/base",
      "_view_module_version": "1.2.0",
      "_view_name": "LayoutView",
      "align_content": null,
      "align_items": null,
      "align_self": null,
      "border": null,
      "bottom": null,
      "display": null,
      "flex": null,
      "flex_flow": null,
      "grid_area": null,
      "grid_auto_columns": null,
      "grid_auto_flow": null,
      "grid_auto_rows": null,
      "grid_column": null,
      "grid_gap": null,
      "grid_row": null,
      "grid_template_areas": null,
      "grid_template_columns": null,
      "grid_template_rows": null,
      "height": null,
      "justify_content": null,
      "justify_items": null,
      "left": null,
      "margin": null,
      "max_height": null,
      "max_width": null,
      "min_height": null,
      "min_width": null,
      "object_fit": null,
      "object_position": null,
      "order": null,
      "overflow": null,
      "overflow_x": null,
      "overflow_y": null,
      "padding": null,
      "right": null,
      "top": null,
      "visibility": null,
      "width": null
     }
    },
    "a9e605a862784e38a9788287bd586d4f": {
     "model_module": "@jupyter-widgets/controls",
     "model_module_version": "1.5.0",
     "model_name": "VBoxModel",
     "state": {
      "_dom_classes": [
       "widget-interact"
      ],
      "_model_module": "@jupyter-widgets/controls",
      "_model_module_version": "1.5.0",
      "_model_name": "VBoxModel",
      "_view_count": null,
      "_view_module": "@jupyter-widgets/controls",
      "_view_module_version": "1.5.0",
      "_view_name": "VBoxView",
      "box_style": "",
      "children": [
       "IPY_MODEL_43a28d772550438f8cdec083376ec8f9",
       "IPY_MODEL_45c561a34e8a45c48e8512029b720f1f",
       "IPY_MODEL_02554e3d8f514e72a4b22a78c88bc8a6"
      ],
      "layout": "IPY_MODEL_ec129d30bd0c4e9bb9689084d7c272f9"
     }
    },
    "ab5af142f3b5479abd7a87ce74a97037": {
     "model_module": "@jupyter-widgets/controls",
     "model_module_version": "1.5.0",
     "model_name": "VBoxModel",
     "state": {
      "_dom_classes": [
       "widget-interact"
      ],
      "_model_module": "@jupyter-widgets/controls",
      "_model_module_version": "1.5.0",
      "_model_name": "VBoxModel",
      "_view_count": null,
      "_view_module": "@jupyter-widgets/controls",
      "_view_module_version": "1.5.0",
      "_view_name": "VBoxView",
      "box_style": "",
      "children": [
       "IPY_MODEL_6f9b7f4a36914c7c84e7d5ebaaa52590",
       "IPY_MODEL_f8b81fda0dde4a14a01f0ffcec593e9e",
       "IPY_MODEL_61a7981c14c841debbdb08a6814a12d0"
      ],
      "layout": "IPY_MODEL_afbaccea62814d9eaf2552ac5a0a9f4c"
     }
    },
    "afbaccea62814d9eaf2552ac5a0a9f4c": {
     "model_module": "@jupyter-widgets/base",
     "model_module_version": "1.2.0",
     "model_name": "LayoutModel",
     "state": {
      "_model_module": "@jupyter-widgets/base",
      "_model_module_version": "1.2.0",
      "_model_name": "LayoutModel",
      "_view_count": null,
      "_view_module": "@jupyter-widgets/base",
      "_view_module_version": "1.2.0",
      "_view_name": "LayoutView",
      "align_content": null,
      "align_items": null,
      "align_self": null,
      "border": null,
      "bottom": null,
      "display": null,
      "flex": null,
      "flex_flow": null,
      "grid_area": null,
      "grid_auto_columns": null,
      "grid_auto_flow": null,
      "grid_auto_rows": null,
      "grid_column": null,
      "grid_gap": null,
      "grid_row": null,
      "grid_template_areas": null,
      "grid_template_columns": null,
      "grid_template_rows": null,
      "height": null,
      "justify_content": null,
      "justify_items": null,
      "left": null,
      "margin": null,
      "max_height": null,
      "max_width": null,
      "min_height": null,
      "min_width": null,
      "object_fit": null,
      "object_position": null,
      "order": null,
      "overflow": null,
      "overflow_x": null,
      "overflow_y": null,
      "padding": null,
      "right": null,
      "top": null,
      "visibility": null,
      "width": null
     }
    },
    "b88972ad724647d89ce652274a8be546": {
     "model_module": "@jupyter-widgets/controls",
     "model_module_version": "1.5.0",
     "model_name": "ButtonStyleModel",
     "state": {
      "_model_module": "@jupyter-widgets/controls",
      "_model_module_version": "1.5.0",
      "_model_name": "ButtonStyleModel",
      "_view_count": null,
      "_view_module": "@jupyter-widgets/base",
      "_view_module_version": "1.2.0",
      "_view_name": "StyleView",
      "button_color": null,
      "font_weight": ""
     }
    },
    "c8a720bb86a348879f26cb5feb354e2c": {
     "model_module": "@jupyter-widgets/base",
     "model_module_version": "1.2.0",
     "model_name": "LayoutModel",
     "state": {
      "_model_module": "@jupyter-widgets/base",
      "_model_module_version": "1.2.0",
      "_model_name": "LayoutModel",
      "_view_count": null,
      "_view_module": "@jupyter-widgets/base",
      "_view_module_version": "1.2.0",
      "_view_name": "LayoutView",
      "align_content": null,
      "align_items": null,
      "align_self": null,
      "border": null,
      "bottom": null,
      "display": null,
      "flex": null,
      "flex_flow": null,
      "grid_area": null,
      "grid_auto_columns": null,
      "grid_auto_flow": null,
      "grid_auto_rows": null,
      "grid_column": null,
      "grid_gap": null,
      "grid_row": null,
      "grid_template_areas": null,
      "grid_template_columns": null,
      "grid_template_rows": null,
      "height": null,
      "justify_content": null,
      "justify_items": null,
      "left": null,
      "margin": null,
      "max_height": null,
      "max_width": null,
      "min_height": null,
      "min_width": null,
      "object_fit": null,
      "object_position": null,
      "order": null,
      "overflow": null,
      "overflow_x": null,
      "overflow_y": null,
      "padding": null,
      "right": null,
      "top": null,
      "visibility": null,
      "width": null
     }
    },
    "dd961d422b734c3fa7f74dff7e6a4569": {
     "model_module": "@jupyter-widgets/controls",
     "model_module_version": "1.5.0",
     "model_name": "ButtonStyleModel",
     "state": {
      "_model_module": "@jupyter-widgets/controls",
      "_model_module_version": "1.5.0",
      "_model_name": "ButtonStyleModel",
      "_view_count": null,
      "_view_module": "@jupyter-widgets/base",
      "_view_module_version": "1.2.0",
      "_view_name": "StyleView",
      "button_color": null,
      "font_weight": ""
     }
    },
    "e321fbb135ce4549909679b7d177c1b6": {
     "model_module": "@jupyter-widgets/base",
     "model_module_version": "1.2.0",
     "model_name": "LayoutModel",
     "state": {
      "_model_module": "@jupyter-widgets/base",
      "_model_module_version": "1.2.0",
      "_model_name": "LayoutModel",
      "_view_count": null,
      "_view_module": "@jupyter-widgets/base",
      "_view_module_version": "1.2.0",
      "_view_name": "LayoutView",
      "align_content": null,
      "align_items": null,
      "align_self": null,
      "border": null,
      "bottom": null,
      "display": null,
      "flex": null,
      "flex_flow": null,
      "grid_area": null,
      "grid_auto_columns": null,
      "grid_auto_flow": null,
      "grid_auto_rows": null,
      "grid_column": null,
      "grid_gap": null,
      "grid_row": null,
      "grid_template_areas": null,
      "grid_template_columns": null,
      "grid_template_rows": null,
      "height": null,
      "justify_content": null,
      "justify_items": null,
      "left": null,
      "margin": null,
      "max_height": null,
      "max_width": null,
      "min_height": null,
      "min_width": null,
      "object_fit": null,
      "object_position": null,
      "order": null,
      "overflow": null,
      "overflow_x": null,
      "overflow_y": null,
      "padding": null,
      "right": null,
      "top": null,
      "visibility": null,
      "width": null
     }
    },
    "ec129d30bd0c4e9bb9689084d7c272f9": {
     "model_module": "@jupyter-widgets/base",
     "model_module_version": "1.2.0",
     "model_name": "LayoutModel",
     "state": {
      "_model_module": "@jupyter-widgets/base",
      "_model_module_version": "1.2.0",
      "_model_name": "LayoutModel",
      "_view_count": null,
      "_view_module": "@jupyter-widgets/base",
      "_view_module_version": "1.2.0",
      "_view_name": "LayoutView",
      "align_content": null,
      "align_items": null,
      "align_self": null,
      "border": null,
      "bottom": null,
      "display": null,
      "flex": null,
      "flex_flow": null,
      "grid_area": null,
      "grid_auto_columns": null,
      "grid_auto_flow": null,
      "grid_auto_rows": null,
      "grid_column": null,
      "grid_gap": null,
      "grid_row": null,
      "grid_template_areas": null,
      "grid_template_columns": null,
      "grid_template_rows": null,
      "height": null,
      "justify_content": null,
      "justify_items": null,
      "left": null,
      "margin": null,
      "max_height": null,
      "max_width": null,
      "min_height": null,
      "min_width": null,
      "object_fit": null,
      "object_position": null,
      "order": null,
      "overflow": null,
      "overflow_x": null,
      "overflow_y": null,
      "padding": null,
      "right": null,
      "top": null,
      "visibility": null,
      "width": null
     }
    },
    "f8b81fda0dde4a14a01f0ffcec593e9e": {
     "model_module": "@jupyter-widgets/controls",
     "model_module_version": "1.5.0",
     "model_name": "ButtonModel",
     "state": {
      "_dom_classes": [],
      "_model_module": "@jupyter-widgets/controls",
      "_model_module_version": "1.5.0",
      "_model_name": "ButtonModel",
      "_view_count": null,
      "_view_module": "@jupyter-widgets/controls",
      "_view_module_version": "1.5.0",
      "_view_name": "ButtonView",
      "button_style": "",
      "description": "Run Interact",
      "disabled": false,
      "icon": "",
      "layout": "IPY_MODEL_8b53df8a53814c098009b515f4cd81cb",
      "style": "IPY_MODEL_dd961d422b734c3fa7f74dff7e6a4569",
      "tooltip": ""
     }
    }
   }
  }
 },
 "nbformat": 4,
 "nbformat_minor": 0
}
